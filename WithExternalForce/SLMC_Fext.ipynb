{
 "cells": [
  {
   "cell_type": "markdown",
   "metadata": {},
   "source": [
    "## SLMC with External Force"
   ]
  },
  {
   "cell_type": "markdown",
   "metadata": {},
   "source": [
    "In active transport, it is usual to study the cargo response when external forces are applied. \n",
    "In experimental settings, due to either hydrodynamic friction of the media, or either the effect of optical traps, external forces are applied to the organelle.For the latter, the cargo displacement is calculated when it is confined in an armonic potential. Under this consideration, a fixed value of the external force is added to the initial equation of movement. Hence the equation for organelle transport mediated by molecular motors is given by:\n",
    "\n",
    "\\begin{equation}\n",
    "\\eta_0\\dot{x}(t)=-\\sum_{i=0}^{N-1}k_i(x(t)-x_i(t))+\\xi_0(t)+F_m(x(t),x_m(t))-L_{ext},\n",
    "\\end{equation}\n",
    "\n",
    "where $L_{ext}$ is the external force due to the optical trap, 0$\\leq L_{ext}\\leq7$pN."
   ]
  }
 ],
 "metadata": {
  "kernelspec": {
   "display_name": "Python 3",
   "language": "python",
   "name": "python3"
  },
  "language_info": {
   "codemirror_mode": {
    "name": "ipython",
    "version": 3
   },
   "file_extension": ".py",
   "mimetype": "text/x-python",
   "name": "python",
   "nbconvert_exporter": "python",
   "pygments_lexer": "ipython3",
   "version": "3.7.4"
  }
 },
 "nbformat": 4,
 "nbformat_minor": 4
}
