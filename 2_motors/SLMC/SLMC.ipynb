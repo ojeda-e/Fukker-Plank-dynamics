{
 "cells": [
  {
   "cell_type": "markdown",
   "metadata": {},
   "source": [
    "## 1. Standard Langevin Monte Carlo (SLMC)"
   ]
  },
  {
   "cell_type": "markdown",
   "metadata": {},
   "source": [
    "## 1.1. Viscous media"
   ]
  },
  {
   "cell_type": "markdown",
   "metadata": {},
   "source": []
  },
  {
   "cell_type": "markdown",
   "metadata": {},
   "source": [
    "\\begin{equation}\n",
    "x(t+dt)=x(t)+(-F_{\\text{ext}}+F_m)\\frac{dt}{\\gamma}+\\sqrt{\\frac{2k_BTdt}{\\gamma}}g.\n",
    "\\end{equation}\n"
   ]
  },
  {
   "cell_type": "markdown",
   "metadata": {},
   "source": [
    "\n",
    "---\n",
    "\n",
    "The initial model here considered is the one-dimensional generalized Langevin equation (GLE), which describes\n",
    "subdiffusive particle motion when in a viscoelastic medium in equilibrium conditions:\n",
    "\n",
    "\n",
    "\\begin{equation}\n",
    "mx(t) = - \\int_0^t \\gamma(t − t')x(t')dt'+\\xi(t) ,\n",
    "\\end{equation}\n",
    "\n",
    "where, $x(t)$ is the position of the particle, $m$ is its mass, and $\\gamma(t)$ is the frictional kernel given by\n",
    "\n",
    "\\begin{equation}\n",
    "\\gamma(t) = \\frac{\\gamma_0}{(1 − \\alpha)^t}t^{\\alpha},\n",
    "\\end{equation}\n",
    "\n",
    "where $\\xi(t)$ is the time-correlated Gaussian thermal noise that satisfies the fluctuation-dissipation relation\n",
    "\n",
    "\\begin{equation}\n",
    "\\xi(t)\\xi(t') = k_{BT}\\gamma(t − t').\n",
    "\\end{equation}\n",
    "\n",
    "\n"
   ]
  },
  {
   "cell_type": "code",
   "execution_count": null,
   "metadata": {},
   "outputs": [],
   "source": []
  }
 ],
 "metadata": {
  "kernelspec": {
   "display_name": "Python 3",
   "language": "python",
   "name": "python3"
  },
  "language_info": {
   "codemirror_mode": {
    "name": "ipython",
    "version": 3
   },
   "file_extension": ".py",
   "mimetype": "text/x-python",
   "name": "python",
   "nbconvert_exporter": "python",
   "pygments_lexer": "ipython3",
   "version": "3.7.4"
  }
 },
 "nbformat": 4,
 "nbformat_minor": 4
}
